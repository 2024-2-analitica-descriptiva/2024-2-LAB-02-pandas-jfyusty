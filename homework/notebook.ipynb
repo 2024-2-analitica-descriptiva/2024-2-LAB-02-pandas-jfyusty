{
 "cells": [
  {
   "cell_type": "code",
   "execution_count": 5,
   "metadata": {},
   "outputs": [
    {
     "data": {
      "text/plain": [
       "40"
      ]
     },
     "execution_count": 5,
     "metadata": {},
     "output_type": "execute_result"
    }
   ],
   "source": [
    "import pandas as pd\n",
    "\n",
    "# Cargar el archivo tbl0.tsv\n",
    "tbl0 = pd.read_csv('../files/input/tbl0.tsv', sep='\\t')\n",
    "tbl0.shape[0]\n"
   ]
  },
  {
   "cell_type": "code",
   "execution_count": 6,
   "metadata": {},
   "outputs": [
    {
     "data": {
      "text/plain": [
       "4"
      ]
     },
     "execution_count": 6,
     "metadata": {},
     "output_type": "execute_result"
    }
   ],
   "source": [
    "tbl0.shape[1]"
   ]
  },
  {
   "cell_type": "code",
   "execution_count": 7,
   "metadata": {},
   "outputs": [
    {
     "data": {
      "text/plain": [
       "c1\n",
       "A     8\n",
       "B     7\n",
       "C     5\n",
       "D     6\n",
       "E    14\n",
       "Name: count, dtype: int64"
      ]
     },
     "execution_count": 7,
     "metadata": {},
     "output_type": "execute_result"
    }
   ],
   "source": [
    "tbl0['c1'].value_counts().sort_index()"
   ]
  },
  {
   "cell_type": "code",
   "execution_count": 8,
   "metadata": {},
   "outputs": [
    {
     "data": {
      "text/plain": [
       "c1\n",
       "A    4.625000\n",
       "B    5.142857\n",
       "C    5.400000\n",
       "D    3.833333\n",
       "E    4.785714\n",
       "Name: c2, dtype: float64"
      ]
     },
     "execution_count": 8,
     "metadata": {},
     "output_type": "execute_result"
    }
   ],
   "source": [
    "tbl0.groupby('c1')['c2'].mean().sort_index()"
   ]
  },
  {
   "cell_type": "code",
   "execution_count": 9,
   "metadata": {},
   "outputs": [
    {
     "data": {
      "text/plain": [
       "c1\n",
       "A    9\n",
       "B    9\n",
       "C    9\n",
       "D    7\n",
       "E    9\n",
       "Name: c2, dtype: int64"
      ]
     },
     "execution_count": 9,
     "metadata": {},
     "output_type": "execute_result"
    }
   ],
   "source": [
    "tbl0.groupby('c1')['c2'].max().sort_index()"
   ]
  },
  {
   "cell_type": "code",
   "execution_count": 12,
   "metadata": {},
   "outputs": [
    {
     "data": {
      "text/plain": [
       "['A', 'B', 'C', 'D', 'E', 'F', 'G']"
      ]
     },
     "execution_count": 12,
     "metadata": {},
     "output_type": "execute_result"
    }
   ],
   "source": [
    "# Cargar el archivo tbl1.tsv\n",
    "tbl1 = pd.read_csv('../files/input/tbl1.tsv', sep='\\t')\n",
    "\n",
    "sorted(tbl1['c4'].str.upper().unique())"
   ]
  },
  {
   "cell_type": "code",
   "execution_count": 13,
   "metadata": {},
   "outputs": [
    {
     "data": {
      "text/plain": [
       "c1\n",
       "A    37\n",
       "B    36\n",
       "C    27\n",
       "D    23\n",
       "E    67\n",
       "Name: c2, dtype: int64"
      ]
     },
     "execution_count": 13,
     "metadata": {},
     "output_type": "execute_result"
    }
   ],
   "source": [
    "tbl0.groupby('c1')['c2'].sum().sort_index()"
   ]
  },
  {
   "cell_type": "code",
   "execution_count": null,
   "metadata": {},
   "outputs": [],
   "source": [
    "tbl0_copy = tbl0.copy()\n",
    "tbl0_copy['suma'] = tbl0_copy['c0'] + tbl0_copy['c2']"
   ]
  },
  {
   "cell_type": "code",
   "execution_count": 19,
   "metadata": {},
   "outputs": [
    {
     "data": {
      "text/html": [
       "<div>\n",
       "<style scoped>\n",
       "    .dataframe tbody tr th:only-of-type {\n",
       "        vertical-align: middle;\n",
       "    }\n",
       "\n",
       "    .dataframe tbody tr th {\n",
       "        vertical-align: top;\n",
       "    }\n",
       "\n",
       "    .dataframe thead th {\n",
       "        text-align: right;\n",
       "    }\n",
       "</style>\n",
       "<table border=\"1\" class=\"dataframe\">\n",
       "  <thead>\n",
       "    <tr style=\"text-align: right;\">\n",
       "      <th></th>\n",
       "      <th>c0</th>\n",
       "      <th>c5</th>\n",
       "    </tr>\n",
       "  </thead>\n",
       "  <tbody>\n",
       "    <tr>\n",
       "      <th>0</th>\n",
       "      <td>0</td>\n",
       "      <td>bbb:0,ddd:9,ggg:8,hhh:2,jjj:3</td>\n",
       "    </tr>\n",
       "    <tr>\n",
       "      <th>1</th>\n",
       "      <td>1</td>\n",
       "      <td>aaa:3,ccc:2,ddd:0,hhh:9</td>\n",
       "    </tr>\n",
       "    <tr>\n",
       "      <th>2</th>\n",
       "      <td>2</td>\n",
       "      <td>ccc:6,ddd:2,ggg:5,jjj:1</td>\n",
       "    </tr>\n",
       "    <tr>\n",
       "      <th>3</th>\n",
       "      <td>3</td>\n",
       "      <td>bbb:1,eee:7,hhh:9,iii:5</td>\n",
       "    </tr>\n",
       "    <tr>\n",
       "      <th>4</th>\n",
       "      <td>4</td>\n",
       "      <td>ddd:5,eee:4,iii:6,jjj:3</td>\n",
       "    </tr>\n",
       "    <tr>\n",
       "      <th>5</th>\n",
       "      <td>5</td>\n",
       "      <td>aaa:7,bbb:2,ccc:4,fff:1,hhh:0</td>\n",
       "    </tr>\n",
       "    <tr>\n",
       "      <th>6</th>\n",
       "      <td>6</td>\n",
       "      <td>aaa:5,ccc:1,ddd:2,fff:8,iii:0,jjj:7</td>\n",
       "    </tr>\n",
       "    <tr>\n",
       "      <th>7</th>\n",
       "      <td>7</td>\n",
       "      <td>ddd:2,fff:3,hhh:1</td>\n",
       "    </tr>\n",
       "    <tr>\n",
       "      <th>8</th>\n",
       "      <td>8</td>\n",
       "      <td>bbb:0,ccc:5,eee:4,fff:7,ggg:6,iii:9</td>\n",
       "    </tr>\n",
       "    <tr>\n",
       "      <th>9</th>\n",
       "      <td>9</td>\n",
       "      <td>bbb:7,eee:3,fff:5,ggg:2,iii:4,jjj:9</td>\n",
       "    </tr>\n",
       "    <tr>\n",
       "      <th>10</th>\n",
       "      <td>10</td>\n",
       "      <td>eee:4,fff:2,hhh:6,iii:0,jjj:1</td>\n",
       "    </tr>\n",
       "    <tr>\n",
       "      <th>11</th>\n",
       "      <td>11</td>\n",
       "      <td>bbb:7,ggg:9,iii:6</td>\n",
       "    </tr>\n",
       "    <tr>\n",
       "      <th>12</th>\n",
       "      <td>12</td>\n",
       "      <td>aaa:3,bbb:9,ccc:6,eee:2,fff:4</td>\n",
       "    </tr>\n",
       "    <tr>\n",
       "      <th>13</th>\n",
       "      <td>13</td>\n",
       "      <td>aaa:8,ddd:5,jjj:1</td>\n",
       "    </tr>\n",
       "    <tr>\n",
       "      <th>14</th>\n",
       "      <td>14</td>\n",
       "      <td>aaa:2,ccc:0,ddd:3,fff:7,jjj:6</td>\n",
       "    </tr>\n",
       "    <tr>\n",
       "      <th>15</th>\n",
       "      <td>15</td>\n",
       "      <td>bbb:9,ccc:0,ddd:3,eee:6</td>\n",
       "    </tr>\n",
       "    <tr>\n",
       "      <th>16</th>\n",
       "      <td>16</td>\n",
       "      <td>bbb:6,ddd:2,fff:4,ggg:9,hhh:5,iii:3</td>\n",
       "    </tr>\n",
       "    <tr>\n",
       "      <th>17</th>\n",
       "      <td>17</td>\n",
       "      <td>ccc:9,hhh:4,jjj:5</td>\n",
       "    </tr>\n",
       "    <tr>\n",
       "      <th>18</th>\n",
       "      <td>18</td>\n",
       "      <td>ccc:1,fff:9,iii:6</td>\n",
       "    </tr>\n",
       "    <tr>\n",
       "      <th>19</th>\n",
       "      <td>19</td>\n",
       "      <td>aaa:3,bbb:9,fff:1</td>\n",
       "    </tr>\n",
       "    <tr>\n",
       "      <th>20</th>\n",
       "      <td>20</td>\n",
       "      <td>aaa:4,ddd:9,iii:2</td>\n",
       "    </tr>\n",
       "    <tr>\n",
       "      <th>21</th>\n",
       "      <td>21</td>\n",
       "      <td>ccc:5,fff:8,iii:7</td>\n",
       "    </tr>\n",
       "    <tr>\n",
       "      <th>22</th>\n",
       "      <td>22</td>\n",
       "      <td>ddd:7,eee:3,jjj:2</td>\n",
       "    </tr>\n",
       "    <tr>\n",
       "      <th>23</th>\n",
       "      <td>23</td>\n",
       "      <td>bbb:3,ccc:7,ddd:9,ggg:0,jjj:1</td>\n",
       "    </tr>\n",
       "    <tr>\n",
       "      <th>24</th>\n",
       "      <td>24</td>\n",
       "      <td>aaa:1,ccc:0,ggg:8,hhh:9,iii:7,jjj:6</td>\n",
       "    </tr>\n",
       "    <tr>\n",
       "      <th>25</th>\n",
       "      <td>25</td>\n",
       "      <td>bbb:7,ccc:1,ddd:0,eee:6,fff:3,iii:4</td>\n",
       "    </tr>\n",
       "    <tr>\n",
       "      <th>26</th>\n",
       "      <td>26</td>\n",
       "      <td>ccc:4,ddd:5,fff:0</td>\n",
       "    </tr>\n",
       "    <tr>\n",
       "      <th>27</th>\n",
       "      <td>27</td>\n",
       "      <td>ccc:0,ddd:9,ggg:6,hhh:3,jjj:7</td>\n",
       "    </tr>\n",
       "    <tr>\n",
       "      <th>28</th>\n",
       "      <td>28</td>\n",
       "      <td>ccc:3,eee:5,hhh:6,iii:7,jjj:0</td>\n",
       "    </tr>\n",
       "    <tr>\n",
       "      <th>29</th>\n",
       "      <td>29</td>\n",
       "      <td>aaa:2,ccc:7,ddd:6,eee:1,fff:4,ggg:0</td>\n",
       "    </tr>\n",
       "    <tr>\n",
       "      <th>30</th>\n",
       "      <td>30</td>\n",
       "      <td>aaa:9,bbb:3,ccc:6,ddd:0,eee:5</td>\n",
       "    </tr>\n",
       "    <tr>\n",
       "      <th>31</th>\n",
       "      <td>31</td>\n",
       "      <td>aaa:6,bbb:7,ddd:5,fff:9,hhh:1,iii:4</td>\n",
       "    </tr>\n",
       "    <tr>\n",
       "      <th>32</th>\n",
       "      <td>32</td>\n",
       "      <td>ccc:1,eee:5,fff:3,ggg:2</td>\n",
       "    </tr>\n",
       "    <tr>\n",
       "      <th>33</th>\n",
       "      <td>33</td>\n",
       "      <td>ccc:1,ddd:0,ggg:3,hhh:5,iii:7,jjj:8</td>\n",
       "    </tr>\n",
       "    <tr>\n",
       "      <th>34</th>\n",
       "      <td>34</td>\n",
       "      <td>bbb:8,ccc:3,ddd:7,hhh:6,jjj:0</td>\n",
       "    </tr>\n",
       "    <tr>\n",
       "      <th>35</th>\n",
       "      <td>35</td>\n",
       "      <td>aaa:0,ddd:3,fff:5</td>\n",
       "    </tr>\n",
       "    <tr>\n",
       "      <th>36</th>\n",
       "      <td>36</td>\n",
       "      <td>bbb:4,ccc:0,ddd:5,iii:7,jjj:2</td>\n",
       "    </tr>\n",
       "    <tr>\n",
       "      <th>37</th>\n",
       "      <td>37</td>\n",
       "      <td>eee:0,fff:2,hhh:6</td>\n",
       "    </tr>\n",
       "    <tr>\n",
       "      <th>38</th>\n",
       "      <td>38</td>\n",
       "      <td>eee:0,fff:9,iii:2</td>\n",
       "    </tr>\n",
       "    <tr>\n",
       "      <th>39</th>\n",
       "      <td>39</td>\n",
       "      <td>ggg:3,hhh:8,jjj:5</td>\n",
       "    </tr>\n",
       "  </tbody>\n",
       "</table>\n",
       "</div>"
      ],
      "text/plain": [
       "    c0                                   c5\n",
       "0    0        bbb:0,ddd:9,ggg:8,hhh:2,jjj:3\n",
       "1    1              aaa:3,ccc:2,ddd:0,hhh:9\n",
       "2    2              ccc:6,ddd:2,ggg:5,jjj:1\n",
       "3    3              bbb:1,eee:7,hhh:9,iii:5\n",
       "4    4              ddd:5,eee:4,iii:6,jjj:3\n",
       "5    5        aaa:7,bbb:2,ccc:4,fff:1,hhh:0\n",
       "6    6  aaa:5,ccc:1,ddd:2,fff:8,iii:0,jjj:7\n",
       "7    7                    ddd:2,fff:3,hhh:1\n",
       "8    8  bbb:0,ccc:5,eee:4,fff:7,ggg:6,iii:9\n",
       "9    9  bbb:7,eee:3,fff:5,ggg:2,iii:4,jjj:9\n",
       "10  10        eee:4,fff:2,hhh:6,iii:0,jjj:1\n",
       "11  11                    bbb:7,ggg:9,iii:6\n",
       "12  12        aaa:3,bbb:9,ccc:6,eee:2,fff:4\n",
       "13  13                    aaa:8,ddd:5,jjj:1\n",
       "14  14        aaa:2,ccc:0,ddd:3,fff:7,jjj:6\n",
       "15  15              bbb:9,ccc:0,ddd:3,eee:6\n",
       "16  16  bbb:6,ddd:2,fff:4,ggg:9,hhh:5,iii:3\n",
       "17  17                    ccc:9,hhh:4,jjj:5\n",
       "18  18                    ccc:1,fff:9,iii:6\n",
       "19  19                    aaa:3,bbb:9,fff:1\n",
       "20  20                    aaa:4,ddd:9,iii:2\n",
       "21  21                    ccc:5,fff:8,iii:7\n",
       "22  22                    ddd:7,eee:3,jjj:2\n",
       "23  23        bbb:3,ccc:7,ddd:9,ggg:0,jjj:1\n",
       "24  24  aaa:1,ccc:0,ggg:8,hhh:9,iii:7,jjj:6\n",
       "25  25  bbb:7,ccc:1,ddd:0,eee:6,fff:3,iii:4\n",
       "26  26                    ccc:4,ddd:5,fff:0\n",
       "27  27        ccc:0,ddd:9,ggg:6,hhh:3,jjj:7\n",
       "28  28        ccc:3,eee:5,hhh:6,iii:7,jjj:0\n",
       "29  29  aaa:2,ccc:7,ddd:6,eee:1,fff:4,ggg:0\n",
       "30  30        aaa:9,bbb:3,ccc:6,ddd:0,eee:5\n",
       "31  31  aaa:6,bbb:7,ddd:5,fff:9,hhh:1,iii:4\n",
       "32  32              ccc:1,eee:5,fff:3,ggg:2\n",
       "33  33  ccc:1,ddd:0,ggg:3,hhh:5,iii:7,jjj:8\n",
       "34  34        bbb:8,ccc:3,ddd:7,hhh:6,jjj:0\n",
       "35  35                    aaa:0,ddd:3,fff:5\n",
       "36  36        bbb:4,ccc:0,ddd:5,iii:7,jjj:2\n",
       "37  37                    eee:0,fff:2,hhh:6\n",
       "38  38                    eee:0,fff:9,iii:2\n",
       "39  39                    ggg:3,hhh:8,jjj:5"
      ]
     },
     "execution_count": 19,
     "metadata": {},
     "output_type": "execute_result"
    }
   ],
   "source": [
    "# Cargar el archivo tbl2.tsv\n",
    "tbl2 = pd.read_csv('../files/input/tbl2.tsv', sep='\\t')\n",
    "\n",
    "# Combinar los valores de 'c5a' y 'c5b' en una nueva columna unida por ':'\n",
    "tbl2['c5'] = tbl2['c5a'].astype(str) + ':' + tbl2['c5b'].astype(str)\n",
    "tbl2\n",
    "\n",
    "# Agrupar por 'c0' y construir una lista separada por ',' de los valores combinados de 'c5'\n",
    "tbl2_agrupado = tbl2.groupby('c0')['c5'].apply(lambda x: ','.join(sorted(x))).reset_index()\n",
    "tbl2_agrupado"
   ]
  },
  {
   "cell_type": "code",
   "execution_count": 21,
   "metadata": {},
   "outputs": [
    {
     "data": {
      "text/html": [
       "<div>\n",
       "<style scoped>\n",
       "    .dataframe tbody tr th:only-of-type {\n",
       "        vertical-align: middle;\n",
       "    }\n",
       "\n",
       "    .dataframe tbody tr th {\n",
       "        vertical-align: top;\n",
       "    }\n",
       "\n",
       "    .dataframe thead th {\n",
       "        text-align: right;\n",
       "    }\n",
       "</style>\n",
       "<table border=\"1\" class=\"dataframe\">\n",
       "  <thead>\n",
       "    <tr style=\"text-align: right;\">\n",
       "      <th></th>\n",
       "      <th>c1</th>\n",
       "      <th>c5b</th>\n",
       "    </tr>\n",
       "  </thead>\n",
       "  <tbody>\n",
       "    <tr>\n",
       "      <th>0</th>\n",
       "      <td>A</td>\n",
       "      <td>146</td>\n",
       "    </tr>\n",
       "    <tr>\n",
       "      <th>1</th>\n",
       "      <td>B</td>\n",
       "      <td>134</td>\n",
       "    </tr>\n",
       "    <tr>\n",
       "      <th>2</th>\n",
       "      <td>C</td>\n",
       "      <td>81</td>\n",
       "    </tr>\n",
       "    <tr>\n",
       "      <th>3</th>\n",
       "      <td>D</td>\n",
       "      <td>112</td>\n",
       "    </tr>\n",
       "    <tr>\n",
       "      <th>4</th>\n",
       "      <td>E</td>\n",
       "      <td>275</td>\n",
       "    </tr>\n",
       "  </tbody>\n",
       "</table>\n",
       "</div>"
      ],
      "text/plain": [
       "  c1  c5b\n",
       "0  A  146\n",
       "1  B  134\n",
       "2  C   81\n",
       "3  D  112\n",
       "4  E  275"
      ]
     },
     "execution_count": 21,
     "metadata": {},
     "output_type": "execute_result"
    }
   ],
   "source": [
    "# Realizar un merge entre tbl0 y tbl2 en la columna 'c0'\n",
    "merged_tbl = pd.merge(tbl0, tbl2, on='c0')\n",
    "merged_tbl\n",
    "\n",
    "# Calcular la suma de 'c5b' agrupada por 'c1' de tbl0\n",
    "suma_c5b_por_c1 = merged_tbl.groupby('c1')['c5b'].sum().reset_index()\n",
    "suma_c5b_por_c1"
   ]
  }
 ],
 "metadata": {
  "kernelspec": {
   "display_name": ".venv",
   "language": "python",
   "name": "python3"
  },
  "language_info": {
   "codemirror_mode": {
    "name": "ipython",
    "version": 3
   },
   "file_extension": ".py",
   "mimetype": "text/x-python",
   "name": "python",
   "nbconvert_exporter": "python",
   "pygments_lexer": "ipython3",
   "version": "3.12.8"
  }
 },
 "nbformat": 4,
 "nbformat_minor": 2
}
